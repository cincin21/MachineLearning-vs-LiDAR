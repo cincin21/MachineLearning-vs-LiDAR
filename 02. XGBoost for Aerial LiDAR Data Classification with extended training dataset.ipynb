{
 "cells": [
  {
   "cell_type": "markdown",
   "metadata": {},
   "source": [
    "## 02. XGBoost for Aerial LiDAR Data Classification with extended training dataset\n",
    "\n",
    "<br>\n",
    "\n",
    "\n",
    "Due to the fact that our XGBoost model got quite poor accuracy (__54.90%__) on test dataset (with great score on training area: __94.99%__) in this notebook we will try to otpimize the previous work on __LiDAR__ data classification. \n",
    "\n",
    "The first and the biggest change will be merging __6 training / validation areas__ in order to avoid overfitting our model. Next we will measure our results on the test area from the previous notebook.\n",
    "\n",
    "\n",
    "### Table of Contents\n",
    "\n",
    "    1.Train / test dataset\n",
    "\n",
    "        1.1 Data analysis\n",
    "        1.2 Data sampling\n",
    "        1.3 XGBoost - default\n",
    "        1.4 XGBoost - tuned\n",
    "    \n",
    "    2.Test dataset\n",
    "    \n",
    "        2.1 Data analysis\n",
    "        2.2 XGBoost - default\n",
    "        2.3 XGBoost - tuned\n",
    "\n",
    "\n"
   ]
  },
  {
   "cell_type": "markdown",
   "metadata": {},
   "source": [
    "## 1.Train / test dataset\n",
    "### 1.1 Data analysis\n",
    "\n",
    "The dataset composes of seven areas - six for __Training / Validation__ and one __Test Area__ for final independent accuracy testing. They all cover a selected area of Peplin municipality.\n",
    "\n",
    "\n",
    "<img src=\"img/Zakres_1_6_2d.JPG\" width=\"80%\">\n",
    "\n",
    "In the next steps we will read and analyze the __Train / Validation Areas__."
   ]
  },
  {
   "cell_type": "code",
   "execution_count": 1,
   "metadata": {},
   "outputs": [],
   "source": [
    "import pandas as pd\n",
    "import numpy as np\n",
    "import warnings\n",
    "warnings.filterwarnings(\"ignore\", category=DeprecationWarning)"
   ]
  },
  {
   "cell_type": "code",
   "execution_count": 2,
   "metadata": {},
   "outputs": [],
   "source": [
    "tv_area = pd.concat([pd.read_csv(r'data\\02.Train_Validation_Area_1.csv', header=0, delimiter=' '),\n",
    "                     pd.read_csv(r'data\\02.Train_Validation_Area_2.csv', header=0, delimiter=' '),\n",
    "                     pd.read_csv(r'data\\02.Train_Validation_Area_3.csv', header=0, delimiter=' '),\n",
    "                     pd.read_csv(r'data\\02.Train_Validation_Area_4.csv', header=0, delimiter=' '),\n",
    "                     pd.read_csv(r'data\\02.Train_Validation_Area_5.csv', header=0, delimiter=' '),\n",
    "                     pd.read_csv(r'data\\02.Train_Validation_Area_6.csv', header=0, delimiter=' ')],\n",
    "                     ignore_index=True)"
   ]
  },
  {
   "cell_type": "code",
   "execution_count": 3,
   "metadata": {},
   "outputs": [
    {
     "data": {
      "text/html": [
       "<div>\n",
       "<style scoped>\n",
       "    .dataframe tbody tr th:only-of-type {\n",
       "        vertical-align: middle;\n",
       "    }\n",
       "\n",
       "    .dataframe tbody tr th {\n",
       "        vertical-align: top;\n",
       "    }\n",
       "\n",
       "    .dataframe thead th {\n",
       "        text-align: right;\n",
       "    }\n",
       "</style>\n",
       "<table border=\"1\" class=\"dataframe\">\n",
       "  <thead>\n",
       "    <tr style=\"text-align: right;\">\n",
       "      <th></th>\n",
       "      <th>//X</th>\n",
       "      <th>Y</th>\n",
       "      <th>Z</th>\n",
       "      <th>R</th>\n",
       "      <th>G</th>\n",
       "      <th>B</th>\n",
       "      <th>PointSourceId</th>\n",
       "      <th>ScanAngleRank</th>\n",
       "      <th>ScanDirectionFlag</th>\n",
       "      <th>NumberOfReturns</th>\n",
       "      <th>ReturnNumber</th>\n",
       "      <th>Intensity</th>\n",
       "      <th>Classification</th>\n",
       "    </tr>\n",
       "  </thead>\n",
       "  <tbody>\n",
       "    <tr>\n",
       "      <th>125266</th>\n",
       "      <td>484243.50000</td>\n",
       "      <td>676340.0625</td>\n",
       "      <td>50.680000</td>\n",
       "      <td>125</td>\n",
       "      <td>138</td>\n",
       "      <td>119</td>\n",
       "      <td>102.0</td>\n",
       "      <td>-11.0</td>\n",
       "      <td>1.0</td>\n",
       "      <td>1.0</td>\n",
       "      <td>1.0</td>\n",
       "      <td>65.0</td>\n",
       "      <td>2.0</td>\n",
       "    </tr>\n",
       "    <tr>\n",
       "      <th>252797</th>\n",
       "      <td>484406.96875</td>\n",
       "      <td>676595.2500</td>\n",
       "      <td>50.630001</td>\n",
       "      <td>49</td>\n",
       "      <td>76</td>\n",
       "      <td>59</td>\n",
       "      <td>102.0</td>\n",
       "      <td>0.0</td>\n",
       "      <td>1.0</td>\n",
       "      <td>1.0</td>\n",
       "      <td>1.0</td>\n",
       "      <td>64.0</td>\n",
       "      <td>2.0</td>\n",
       "    </tr>\n",
       "    <tr>\n",
       "      <th>413065</th>\n",
       "      <td>484586.50000</td>\n",
       "      <td>676288.2500</td>\n",
       "      <td>57.459999</td>\n",
       "      <td>53</td>\n",
       "      <td>59</td>\n",
       "      <td>53</td>\n",
       "      <td>102.0</td>\n",
       "      <td>14.0</td>\n",
       "      <td>1.0</td>\n",
       "      <td>1.0</td>\n",
       "      <td>1.0</td>\n",
       "      <td>83.0</td>\n",
       "      <td>0.0</td>\n",
       "    </tr>\n",
       "    <tr>\n",
       "      <th>176141</th>\n",
       "      <td>484404.12500</td>\n",
       "      <td>676325.5000</td>\n",
       "      <td>55.939999</td>\n",
       "      <td>111</td>\n",
       "      <td>112</td>\n",
       "      <td>106</td>\n",
       "      <td>102.0</td>\n",
       "      <td>1.0</td>\n",
       "      <td>1.0</td>\n",
       "      <td>3.0</td>\n",
       "      <td>3.0</td>\n",
       "      <td>30.0</td>\n",
       "      <td>2.0</td>\n",
       "    </tr>\n",
       "    <tr>\n",
       "      <th>213615</th>\n",
       "      <td>484384.87500</td>\n",
       "      <td>676360.8750</td>\n",
       "      <td>55.970001</td>\n",
       "      <td>124</td>\n",
       "      <td>137</td>\n",
       "      <td>115</td>\n",
       "      <td>102.0</td>\n",
       "      <td>-1.0</td>\n",
       "      <td>1.0</td>\n",
       "      <td>1.0</td>\n",
       "      <td>1.0</td>\n",
       "      <td>86.0</td>\n",
       "      <td>2.0</td>\n",
       "    </tr>\n",
       "    <tr>\n",
       "      <th>483941</th>\n",
       "      <td>484437.03125</td>\n",
       "      <td>676113.1250</td>\n",
       "      <td>53.169998</td>\n",
       "      <td>120</td>\n",
       "      <td>125</td>\n",
       "      <td>105</td>\n",
       "      <td>102.0</td>\n",
       "      <td>3.0</td>\n",
       "      <td>1.0</td>\n",
       "      <td>2.0</td>\n",
       "      <td>2.0</td>\n",
       "      <td>56.0</td>\n",
       "      <td>2.0</td>\n",
       "    </tr>\n",
       "    <tr>\n",
       "      <th>203293</th>\n",
       "      <td>484456.46875</td>\n",
       "      <td>676330.1250</td>\n",
       "      <td>54.900002</td>\n",
       "      <td>98</td>\n",
       "      <td>111</td>\n",
       "      <td>90</td>\n",
       "      <td>102.0</td>\n",
       "      <td>4.0</td>\n",
       "      <td>1.0</td>\n",
       "      <td>1.0</td>\n",
       "      <td>1.0</td>\n",
       "      <td>95.0</td>\n",
       "      <td>2.0</td>\n",
       "    </tr>\n",
       "    <tr>\n",
       "      <th>182275</th>\n",
       "      <td>484373.65625</td>\n",
       "      <td>676343.6250</td>\n",
       "      <td>55.790001</td>\n",
       "      <td>70</td>\n",
       "      <td>91</td>\n",
       "      <td>75</td>\n",
       "      <td>102.0</td>\n",
       "      <td>-2.0</td>\n",
       "      <td>1.0</td>\n",
       "      <td>1.0</td>\n",
       "      <td>1.0</td>\n",
       "      <td>73.0</td>\n",
       "      <td>2.0</td>\n",
       "    </tr>\n",
       "    <tr>\n",
       "      <th>292985</th>\n",
       "      <td>484270.12500</td>\n",
       "      <td>676986.1250</td>\n",
       "      <td>52.290001</td>\n",
       "      <td>73</td>\n",
       "      <td>74</td>\n",
       "      <td>69</td>\n",
       "      <td>102.0</td>\n",
       "      <td>-10.0</td>\n",
       "      <td>1.0</td>\n",
       "      <td>1.0</td>\n",
       "      <td>1.0</td>\n",
       "      <td>87.0</td>\n",
       "      <td>3.0</td>\n",
       "    </tr>\n",
       "    <tr>\n",
       "      <th>136093</th>\n",
       "      <td>484321.68750</td>\n",
       "      <td>676353.3125</td>\n",
       "      <td>55.119999</td>\n",
       "      <td>118</td>\n",
       "      <td>115</td>\n",
       "      <td>98</td>\n",
       "      <td>102.0</td>\n",
       "      <td>-6.0</td>\n",
       "      <td>1.0</td>\n",
       "      <td>1.0</td>\n",
       "      <td>1.0</td>\n",
       "      <td>89.0</td>\n",
       "      <td>2.0</td>\n",
       "    </tr>\n",
       "    <tr>\n",
       "      <th>463421</th>\n",
       "      <td>484369.37500</td>\n",
       "      <td>676120.0625</td>\n",
       "      <td>51.080002</td>\n",
       "      <td>138</td>\n",
       "      <td>127</td>\n",
       "      <td>115</td>\n",
       "      <td>102.0</td>\n",
       "      <td>-2.0</td>\n",
       "      <td>1.0</td>\n",
       "      <td>1.0</td>\n",
       "      <td>1.0</td>\n",
       "      <td>128.0</td>\n",
       "      <td>2.0</td>\n",
       "    </tr>\n",
       "    <tr>\n",
       "      <th>407699</th>\n",
       "      <td>484530.40625</td>\n",
       "      <td>676331.3750</td>\n",
       "      <td>54.060001</td>\n",
       "      <td>82</td>\n",
       "      <td>98</td>\n",
       "      <td>75</td>\n",
       "      <td>102.0</td>\n",
       "      <td>10.0</td>\n",
       "      <td>1.0</td>\n",
       "      <td>1.0</td>\n",
       "      <td>1.0</td>\n",
       "      <td>41.0</td>\n",
       "      <td>2.0</td>\n",
       "    </tr>\n",
       "    <tr>\n",
       "      <th>309762</th>\n",
       "      <td>484228.62500</td>\n",
       "      <td>677051.3750</td>\n",
       "      <td>50.029999</td>\n",
       "      <td>127</td>\n",
       "      <td>139</td>\n",
       "      <td>117</td>\n",
       "      <td>102.0</td>\n",
       "      <td>-13.0</td>\n",
       "      <td>1.0</td>\n",
       "      <td>1.0</td>\n",
       "      <td>1.0</td>\n",
       "      <td>74.0</td>\n",
       "      <td>2.0</td>\n",
       "    </tr>\n",
       "    <tr>\n",
       "      <th>359610</th>\n",
       "      <td>484527.00000</td>\n",
       "      <td>676244.4375</td>\n",
       "      <td>56.410000</td>\n",
       "      <td>145</td>\n",
       "      <td>164</td>\n",
       "      <td>144</td>\n",
       "      <td>102.0</td>\n",
       "      <td>10.0</td>\n",
       "      <td>1.0</td>\n",
       "      <td>1.0</td>\n",
       "      <td>1.0</td>\n",
       "      <td>87.0</td>\n",
       "      <td>2.0</td>\n",
       "    </tr>\n",
       "    <tr>\n",
       "      <th>282451</th>\n",
       "      <td>484264.75000</td>\n",
       "      <td>676989.2500</td>\n",
       "      <td>52.220001</td>\n",
       "      <td>165</td>\n",
       "      <td>172</td>\n",
       "      <td>158</td>\n",
       "      <td>102.0</td>\n",
       "      <td>-11.0</td>\n",
       "      <td>1.0</td>\n",
       "      <td>1.0</td>\n",
       "      <td>1.0</td>\n",
       "      <td>87.0</td>\n",
       "      <td>2.0</td>\n",
       "    </tr>\n",
       "    <tr>\n",
       "      <th>83101</th>\n",
       "      <td>484420.62500</td>\n",
       "      <td>676305.5000</td>\n",
       "      <td>56.180000</td>\n",
       "      <td>80</td>\n",
       "      <td>95</td>\n",
       "      <td>84</td>\n",
       "      <td>102.0</td>\n",
       "      <td>2.0</td>\n",
       "      <td>1.0</td>\n",
       "      <td>1.0</td>\n",
       "      <td>1.0</td>\n",
       "      <td>86.0</td>\n",
       "      <td>2.0</td>\n",
       "    </tr>\n",
       "    <tr>\n",
       "      <th>239659</th>\n",
       "      <td>484450.78125</td>\n",
       "      <td>676550.2500</td>\n",
       "      <td>53.799999</td>\n",
       "      <td>129</td>\n",
       "      <td>79</td>\n",
       "      <td>64</td>\n",
       "      <td>102.0</td>\n",
       "      <td>4.0</td>\n",
       "      <td>1.0</td>\n",
       "      <td>2.0</td>\n",
       "      <td>2.0</td>\n",
       "      <td>54.0</td>\n",
       "      <td>2.0</td>\n",
       "    </tr>\n",
       "    <tr>\n",
       "      <th>122480</th>\n",
       "      <td>484254.12500</td>\n",
       "      <td>676350.0625</td>\n",
       "      <td>51.610001</td>\n",
       "      <td>108</td>\n",
       "      <td>100</td>\n",
       "      <td>92</td>\n",
       "      <td>102.0</td>\n",
       "      <td>-11.0</td>\n",
       "      <td>1.0</td>\n",
       "      <td>1.0</td>\n",
       "      <td>1.0</td>\n",
       "      <td>53.0</td>\n",
       "      <td>2.0</td>\n",
       "    </tr>\n",
       "    <tr>\n",
       "      <th>225410</th>\n",
       "      <td>484408.96875</td>\n",
       "      <td>676550.4375</td>\n",
       "      <td>51.110001</td>\n",
       "      <td>139</td>\n",
       "      <td>142</td>\n",
       "      <td>121</td>\n",
       "      <td>102.0</td>\n",
       "      <td>0.0</td>\n",
       "      <td>1.0</td>\n",
       "      <td>1.0</td>\n",
       "      <td>1.0</td>\n",
       "      <td>133.0</td>\n",
       "      <td>2.0</td>\n",
       "    </tr>\n",
       "    <tr>\n",
       "      <th>364572</th>\n",
       "      <td>484527.78125</td>\n",
       "      <td>676270.5000</td>\n",
       "      <td>55.310001</td>\n",
       "      <td>91</td>\n",
       "      <td>91</td>\n",
       "      <td>79</td>\n",
       "      <td>102.0</td>\n",
       "      <td>10.0</td>\n",
       "      <td>1.0</td>\n",
       "      <td>1.0</td>\n",
       "      <td>1.0</td>\n",
       "      <td>74.0</td>\n",
       "      <td>2.0</td>\n",
       "    </tr>\n",
       "  </tbody>\n",
       "</table>\n",
       "</div>"
      ],
      "text/plain": [
       "                 //X            Y          Z    R    G    B  PointSourceId  \\\n",
       "125266  484243.50000  676340.0625  50.680000  125  138  119          102.0   \n",
       "252797  484406.96875  676595.2500  50.630001   49   76   59          102.0   \n",
       "413065  484586.50000  676288.2500  57.459999   53   59   53          102.0   \n",
       "176141  484404.12500  676325.5000  55.939999  111  112  106          102.0   \n",
       "213615  484384.87500  676360.8750  55.970001  124  137  115          102.0   \n",
       "483941  484437.03125  676113.1250  53.169998  120  125  105          102.0   \n",
       "203293  484456.46875  676330.1250  54.900002   98  111   90          102.0   \n",
       "182275  484373.65625  676343.6250  55.790001   70   91   75          102.0   \n",
       "292985  484270.12500  676986.1250  52.290001   73   74   69          102.0   \n",
       "136093  484321.68750  676353.3125  55.119999  118  115   98          102.0   \n",
       "463421  484369.37500  676120.0625  51.080002  138  127  115          102.0   \n",
       "407699  484530.40625  676331.3750  54.060001   82   98   75          102.0   \n",
       "309762  484228.62500  677051.3750  50.029999  127  139  117          102.0   \n",
       "359610  484527.00000  676244.4375  56.410000  145  164  144          102.0   \n",
       "282451  484264.75000  676989.2500  52.220001  165  172  158          102.0   \n",
       "83101   484420.62500  676305.5000  56.180000   80   95   84          102.0   \n",
       "239659  484450.78125  676550.2500  53.799999  129   79   64          102.0   \n",
       "122480  484254.12500  676350.0625  51.610001  108  100   92          102.0   \n",
       "225410  484408.96875  676550.4375  51.110001  139  142  121          102.0   \n",
       "364572  484527.78125  676270.5000  55.310001   91   91   79          102.0   \n",
       "\n",
       "        ScanAngleRank  ScanDirectionFlag  NumberOfReturns  ReturnNumber  \\\n",
       "125266          -11.0                1.0              1.0           1.0   \n",
       "252797            0.0                1.0              1.0           1.0   \n",
       "413065           14.0                1.0              1.0           1.0   \n",
       "176141            1.0                1.0              3.0           3.0   \n",
       "213615           -1.0                1.0              1.0           1.0   \n",
       "483941            3.0                1.0              2.0           2.0   \n",
       "203293            4.0                1.0              1.0           1.0   \n",
       "182275           -2.0                1.0              1.0           1.0   \n",
       "292985          -10.0                1.0              1.0           1.0   \n",
       "136093           -6.0                1.0              1.0           1.0   \n",
       "463421           -2.0                1.0              1.0           1.0   \n",
       "407699           10.0                1.0              1.0           1.0   \n",
       "309762          -13.0                1.0              1.0           1.0   \n",
       "359610           10.0                1.0              1.0           1.0   \n",
       "282451          -11.0                1.0              1.0           1.0   \n",
       "83101             2.0                1.0              1.0           1.0   \n",
       "239659            4.0                1.0              2.0           2.0   \n",
       "122480          -11.0                1.0              1.0           1.0   \n",
       "225410            0.0                1.0              1.0           1.0   \n",
       "364572           10.0                1.0              1.0           1.0   \n",
       "\n",
       "        Intensity  Classification  \n",
       "125266       65.0             2.0  \n",
       "252797       64.0             2.0  \n",
       "413065       83.0             0.0  \n",
       "176141       30.0             2.0  \n",
       "213615       86.0             2.0  \n",
       "483941       56.0             2.0  \n",
       "203293       95.0             2.0  \n",
       "182275       73.0             2.0  \n",
       "292985       87.0             3.0  \n",
       "136093       89.0             2.0  \n",
       "463421      128.0             2.0  \n",
       "407699       41.0             2.0  \n",
       "309762       74.0             2.0  \n",
       "359610       87.0             2.0  \n",
       "282451       87.0             2.0  \n",
       "83101        86.0             2.0  \n",
       "239659       54.0             2.0  \n",
       "122480       53.0             2.0  \n",
       "225410      133.0             2.0  \n",
       "364572       74.0             2.0  "
      ]
     },
     "execution_count": 3,
     "metadata": {},
     "output_type": "execute_result"
    }
   ],
   "source": [
    "tv_area.sample(20)"
   ]
  },
  {
   "cell_type": "markdown",
   "metadata": {},
   "source": [
    "Just the reminder of feature explanation:\n",
    "\n",
    "__LiDAR__ per-point data attriubtes definition:\n",
    " \n",
    "__X__,__Y__ - The planimetric ground location of the point,\n",
    "\n",
    "__Z__ - The elevation of the point,\n",
    "\n",
    "__R__,__G__,__B__ - Additive color model values,\n",
    "\n",
    "__PointSourceId__ - A unique identifier to reference this point back to a collection source,\n",
    "\n",
    "__ScanAngleRank__ - Angle at which the laser point was output from the laser system including the roll of the aircraft,\n",
    "\n",
    "__ScanDirectionFlag__ - Direction the laser scanning mirror was traveling at the time of the output laser pulse,\n",
    "\n",
    "__NumberOfReturns__ - Number of returns detected for a given transmitted pulse,\n",
    "\n",
    "__Intensity__ - The laser pulse return intensity at the sensor,\n",
    "\n",
    "__Classification__ - Surface attribute assigned to this point such as ground, vegetation."
   ]
  },
  {
   "cell_type": "code",
   "execution_count": 4,
   "metadata": {},
   "outputs": [
    {
     "name": "stdout",
     "output_type": "stream",
     "text": [
      "<class 'pandas.core.frame.DataFrame'>\n",
      "RangeIndex: 489029 entries, 0 to 489028\n",
      "Data columns (total 13 columns):\n",
      "//X                  489029 non-null float64\n",
      "Y                    489029 non-null float64\n",
      "Z                    489029 non-null float64\n",
      "R                    489029 non-null int64\n",
      "G                    489029 non-null int64\n",
      "B                    489029 non-null int64\n",
      "PointSourceId        489029 non-null float64\n",
      "ScanAngleRank        489029 non-null float64\n",
      "ScanDirectionFlag    489029 non-null float64\n",
      "NumberOfReturns      489029 non-null float64\n",
      "ReturnNumber         489029 non-null float64\n",
      "Intensity            489029 non-null float64\n",
      "Classification       489029 non-null float64\n",
      "dtypes: float64(10), int64(3)\n",
      "memory usage: 48.5 MB\n"
     ]
    }
   ],
   "source": [
    "tv_area.info()"
   ]
  },
  {
   "cell_type": "markdown",
   "metadata": {},
   "source": [
    "We can see that there are only numerical features and that there are no null values within all data, so we can proceed with further analysis."
   ]
  },
  {
   "cell_type": "code",
   "execution_count": 5,
   "metadata": {},
   "outputs": [
    {
     "data": {
      "text/plain": [
       "//X                  16694\n",
       "Y                     9620\n",
       "Z                     2905\n",
       "R                      238\n",
       "G                      227\n",
       "B                      231\n",
       "PointSourceId            2\n",
       "ScanAngleRank           34\n",
       "ScanDirectionFlag        1\n",
       "NumberOfReturns          5\n",
       "ReturnNumber             5\n",
       "Intensity              225\n",
       "Classification           8\n",
       "dtype: int64"
      ]
     },
     "execution_count": 5,
     "metadata": {},
     "output_type": "execute_result"
    }
   ],
   "source": [
    "tv_area.nunique()"
   ]
  },
  {
   "cell_type": "code",
   "execution_count": 6,
   "metadata": {},
   "outputs": [
    {
     "data": {
      "text/html": [
       "<div>\n",
       "<style scoped>\n",
       "    .dataframe tbody tr th:only-of-type {\n",
       "        vertical-align: middle;\n",
       "    }\n",
       "\n",
       "    .dataframe tbody tr th {\n",
       "        vertical-align: top;\n",
       "    }\n",
       "\n",
       "    .dataframe thead th {\n",
       "        text-align: right;\n",
       "    }\n",
       "</style>\n",
       "<table border=\"1\" class=\"dataframe\">\n",
       "  <thead>\n",
       "    <tr style=\"text-align: right;\">\n",
       "      <th></th>\n",
       "      <th>//X</th>\n",
       "      <th>Y</th>\n",
       "      <th>Z</th>\n",
       "      <th>R</th>\n",
       "      <th>G</th>\n",
       "      <th>B</th>\n",
       "      <th>PointSourceId</th>\n",
       "      <th>ScanAngleRank</th>\n",
       "      <th>ScanDirectionFlag</th>\n",
       "      <th>NumberOfReturns</th>\n",
       "      <th>ReturnNumber</th>\n",
       "      <th>Intensity</th>\n",
       "      <th>Classification</th>\n",
       "    </tr>\n",
       "  </thead>\n",
       "  <tbody>\n",
       "    <tr>\n",
       "      <th>count</th>\n",
       "      <td>489029.000000</td>\n",
       "      <td>489029.000000</td>\n",
       "      <td>489029.000000</td>\n",
       "      <td>489029.000000</td>\n",
       "      <td>489029.000000</td>\n",
       "      <td>489029.000000</td>\n",
       "      <td>489029.000000</td>\n",
       "      <td>489029.000000</td>\n",
       "      <td>489029.0</td>\n",
       "      <td>489029.000000</td>\n",
       "      <td>489029.000000</td>\n",
       "      <td>489029.000000</td>\n",
       "      <td>489029.000000</td>\n",
       "    </tr>\n",
       "    <tr>\n",
       "      <th>mean</th>\n",
       "      <td>484429.029700</td>\n",
       "      <td>676410.149605</td>\n",
       "      <td>54.452942</td>\n",
       "      <td>107.389008</td>\n",
       "      <td>112.246261</td>\n",
       "      <td>100.769155</td>\n",
       "      <td>102.078290</td>\n",
       "      <td>0.483853</td>\n",
       "      <td>1.0</td>\n",
       "      <td>1.111748</td>\n",
       "      <td>1.055952</td>\n",
       "      <td>75.933998</td>\n",
       "      <td>2.517849</td>\n",
       "    </tr>\n",
       "    <tr>\n",
       "      <th>std</th>\n",
       "      <td>161.461443</td>\n",
       "      <td>249.742755</td>\n",
       "      <td>3.610070</td>\n",
       "      <td>45.041527</td>\n",
       "      <td>39.157022</td>\n",
       "      <td>37.233928</td>\n",
       "      <td>0.268627</td>\n",
       "      <td>8.342436</td>\n",
       "      <td>0.0</td>\n",
       "      <td>0.368680</td>\n",
       "      <td>0.255040</td>\n",
       "      <td>29.930130</td>\n",
       "      <td>1.457988</td>\n",
       "    </tr>\n",
       "    <tr>\n",
       "      <th>min</th>\n",
       "      <td>484189.906250</td>\n",
       "      <td>676038.062500</td>\n",
       "      <td>48.029999</td>\n",
       "      <td>17.000000</td>\n",
       "      <td>27.000000</td>\n",
       "      <td>20.000000</td>\n",
       "      <td>102.000000</td>\n",
       "      <td>-15.000000</td>\n",
       "      <td>1.0</td>\n",
       "      <td>1.000000</td>\n",
       "      <td>1.000000</td>\n",
       "      <td>8.000000</td>\n",
       "      <td>0.000000</td>\n",
       "    </tr>\n",
       "    <tr>\n",
       "      <th>25%</th>\n",
       "      <td>484313.375000</td>\n",
       "      <td>676279.312500</td>\n",
       "      <td>51.869999</td>\n",
       "      <td>76.000000</td>\n",
       "      <td>87.000000</td>\n",
       "      <td>77.000000</td>\n",
       "      <td>102.000000</td>\n",
       "      <td>-6.000000</td>\n",
       "      <td>1.0</td>\n",
       "      <td>1.000000</td>\n",
       "      <td>1.000000</td>\n",
       "      <td>60.000000</td>\n",
       "      <td>2.000000</td>\n",
       "    </tr>\n",
       "    <tr>\n",
       "      <th>50%</th>\n",
       "      <td>484412.000000</td>\n",
       "      <td>676324.437500</td>\n",
       "      <td>54.430000</td>\n",
       "      <td>107.000000</td>\n",
       "      <td>114.000000</td>\n",
       "      <td>98.000000</td>\n",
       "      <td>102.000000</td>\n",
       "      <td>1.000000</td>\n",
       "      <td>1.0</td>\n",
       "      <td>1.000000</td>\n",
       "      <td>1.000000</td>\n",
       "      <td>76.000000</td>\n",
       "      <td>2.000000</td>\n",
       "    </tr>\n",
       "    <tr>\n",
       "      <th>75%</th>\n",
       "      <td>484475.375000</td>\n",
       "      <td>676540.937500</td>\n",
       "      <td>55.830002</td>\n",
       "      <td>132.000000</td>\n",
       "      <td>131.000000</td>\n",
       "      <td>114.000000</td>\n",
       "      <td>102.000000</td>\n",
       "      <td>6.000000</td>\n",
       "      <td>1.0</td>\n",
       "      <td>1.000000</td>\n",
       "      <td>1.000000</td>\n",
       "      <td>93.000000</td>\n",
       "      <td>2.000000</td>\n",
       "    </tr>\n",
       "    <tr>\n",
       "      <th>max</th>\n",
       "      <td>484913.156250</td>\n",
       "      <td>677053.500000</td>\n",
       "      <td>78.730003</td>\n",
       "      <td>255.000000</td>\n",
       "      <td>255.000000</td>\n",
       "      <td>255.000000</td>\n",
       "      <td>103.000000</td>\n",
       "      <td>25.000000</td>\n",
       "      <td>1.0</td>\n",
       "      <td>5.000000</td>\n",
       "      <td>5.000000</td>\n",
       "      <td>1011.000000</td>\n",
       "      <td>12.000000</td>\n",
       "    </tr>\n",
       "  </tbody>\n",
       "</table>\n",
       "</div>"
      ],
      "text/plain": [
       "                 //X              Y              Z              R  \\\n",
       "count  489029.000000  489029.000000  489029.000000  489029.000000   \n",
       "mean   484429.029700  676410.149605      54.452942     107.389008   \n",
       "std       161.461443     249.742755       3.610070      45.041527   \n",
       "min    484189.906250  676038.062500      48.029999      17.000000   \n",
       "25%    484313.375000  676279.312500      51.869999      76.000000   \n",
       "50%    484412.000000  676324.437500      54.430000     107.000000   \n",
       "75%    484475.375000  676540.937500      55.830002     132.000000   \n",
       "max    484913.156250  677053.500000      78.730003     255.000000   \n",
       "\n",
       "                   G              B  PointSourceId  ScanAngleRank  \\\n",
       "count  489029.000000  489029.000000  489029.000000  489029.000000   \n",
       "mean      112.246261     100.769155     102.078290       0.483853   \n",
       "std        39.157022      37.233928       0.268627       8.342436   \n",
       "min        27.000000      20.000000     102.000000     -15.000000   \n",
       "25%        87.000000      77.000000     102.000000      -6.000000   \n",
       "50%       114.000000      98.000000     102.000000       1.000000   \n",
       "75%       131.000000     114.000000     102.000000       6.000000   \n",
       "max       255.000000     255.000000     103.000000      25.000000   \n",
       "\n",
       "       ScanDirectionFlag  NumberOfReturns   ReturnNumber      Intensity  \\\n",
       "count           489029.0    489029.000000  489029.000000  489029.000000   \n",
       "mean                 1.0         1.111748       1.055952      75.933998   \n",
       "std                  0.0         0.368680       0.255040      29.930130   \n",
       "min                  1.0         1.000000       1.000000       8.000000   \n",
       "25%                  1.0         1.000000       1.000000      60.000000   \n",
       "50%                  1.0         1.000000       1.000000      76.000000   \n",
       "75%                  1.0         1.000000       1.000000      93.000000   \n",
       "max                  1.0         5.000000       5.000000    1011.000000   \n",
       "\n",
       "       Classification  \n",
       "count   489029.000000  \n",
       "mean         2.517849  \n",
       "std          1.457988  \n",
       "min          0.000000  \n",
       "25%          2.000000  \n",
       "50%          2.000000  \n",
       "75%          2.000000  \n",
       "max         12.000000  "
      ]
     },
     "execution_count": 6,
     "metadata": {},
     "output_type": "execute_result"
    }
   ],
   "source": [
    "tv_area.describe()"
   ]
  },
  {
   "cell_type": "markdown",
   "metadata": {},
   "source": [
    "Next we will invest feature importance for further predictions.\n",
    "\n",
    "Because __'PointSourceId'__ and __'ScanDirectionFlag'__ columns consists with accordingly 2 and 1 value we can assuredly delete them.\n",
    "\n",
    "Another aspect are __'X'__ and __'Y'__ coordinates that are values differrent for each point and have no correlation with different spatial areas and should also be deleted."
   ]
  },
  {
   "cell_type": "code",
   "execution_count": 7,
   "metadata": {},
   "outputs": [],
   "source": [
    "tv_area = tv_area.drop(['PointSourceId', 'ScanDirectionFlag', '//X', 'Y'], axis = 1)"
   ]
  },
  {
   "cell_type": "markdown",
   "metadata": {},
   "source": [
    "As we know from previous notebook there is a vast majority of values classify as Ground (2), so we are dealing with a disproportionate ratio of observations in each class, that will obviously lower our measures performance."
   ]
  },
  {
   "cell_type": "markdown",
   "metadata": {
    "collapsed": true
   },
   "source": [
    "\n",
    "### 1.2 Data sampling\n",
    "\n",
    "We will use __down-sampling__ for majority class - Ground (2), and __up-sampling__ for other classes, setting the number of samples to match __5000 features__ for all categories.\n",
    "\n",
    "We will use the scheme of Up-sample Minority Class and Down-sample Majority Class from  https://elitedatascience.com/imbalanced-classes.\n",
    "\n",
    "First we have to split our data to __train / test__ datasets in order not to interfere with further model accuracy measurement on test data."
   ]
  },
  {
   "cell_type": "code",
   "execution_count": 8,
   "metadata": {},
   "outputs": [],
   "source": [
    "from sklearn.model_selection import train_test_split\n",
    "from sklearn.utils import resample"
   ]
  },
  {
   "cell_type": "code",
   "execution_count": 9,
   "metadata": {},
   "outputs": [
    {
     "data": {
      "text/html": [
       "<div>\n",
       "<style scoped>\n",
       "    .dataframe tbody tr th:only-of-type {\n",
       "        vertical-align: middle;\n",
       "    }\n",
       "\n",
       "    .dataframe tbody tr th {\n",
       "        vertical-align: top;\n",
       "    }\n",
       "\n",
       "    .dataframe thead th {\n",
       "        text-align: right;\n",
       "    }\n",
       "</style>\n",
       "<table border=\"1\" class=\"dataframe\">\n",
       "  <thead>\n",
       "    <tr style=\"text-align: right;\">\n",
       "      <th></th>\n",
       "      <th>Z</th>\n",
       "      <th>R</th>\n",
       "      <th>G</th>\n",
       "      <th>B</th>\n",
       "      <th>ScanAngleRank</th>\n",
       "      <th>NumberOfReturns</th>\n",
       "      <th>ReturnNumber</th>\n",
       "      <th>Intensity</th>\n",
       "    </tr>\n",
       "  </thead>\n",
       "  <tbody>\n",
       "    <tr>\n",
       "      <th>0</th>\n",
       "      <td>51.689999</td>\n",
       "      <td>130</td>\n",
       "      <td>124</td>\n",
       "      <td>111</td>\n",
       "      <td>-10.0</td>\n",
       "      <td>1.0</td>\n",
       "      <td>1.0</td>\n",
       "      <td>102.0</td>\n",
       "    </tr>\n",
       "    <tr>\n",
       "      <th>1</th>\n",
       "      <td>51.650002</td>\n",
       "      <td>135</td>\n",
       "      <td>132</td>\n",
       "      <td>117</td>\n",
       "      <td>-10.0</td>\n",
       "      <td>1.0</td>\n",
       "      <td>1.0</td>\n",
       "      <td>118.0</td>\n",
       "    </tr>\n",
       "    <tr>\n",
       "      <th>2</th>\n",
       "      <td>51.669998</td>\n",
       "      <td>128</td>\n",
       "      <td>121</td>\n",
       "      <td>107</td>\n",
       "      <td>-10.0</td>\n",
       "      <td>1.0</td>\n",
       "      <td>1.0</td>\n",
       "      <td>92.0</td>\n",
       "    </tr>\n",
       "    <tr>\n",
       "      <th>3</th>\n",
       "      <td>51.700001</td>\n",
       "      <td>121</td>\n",
       "      <td>114</td>\n",
       "      <td>101</td>\n",
       "      <td>-10.0</td>\n",
       "      <td>1.0</td>\n",
       "      <td>1.0</td>\n",
       "      <td>104.0</td>\n",
       "    </tr>\n",
       "    <tr>\n",
       "      <th>4</th>\n",
       "      <td>51.709999</td>\n",
       "      <td>115</td>\n",
       "      <td>107</td>\n",
       "      <td>94</td>\n",
       "      <td>-10.0</td>\n",
       "      <td>1.0</td>\n",
       "      <td>1.0</td>\n",
       "      <td>91.0</td>\n",
       "    </tr>\n",
       "  </tbody>\n",
       "</table>\n",
       "</div>"
      ],
      "text/plain": [
       "           Z    R    G    B  ScanAngleRank  NumberOfReturns  ReturnNumber  \\\n",
       "0  51.689999  130  124  111          -10.0              1.0           1.0   \n",
       "1  51.650002  135  132  117          -10.0              1.0           1.0   \n",
       "2  51.669998  128  121  107          -10.0              1.0           1.0   \n",
       "3  51.700001  121  114  101          -10.0              1.0           1.0   \n",
       "4  51.709999  115  107   94          -10.0              1.0           1.0   \n",
       "\n",
       "   Intensity  \n",
       "0      102.0  \n",
       "1      118.0  \n",
       "2       92.0  \n",
       "3      104.0  \n",
       "4       91.0  "
      ]
     },
     "execution_count": 9,
     "metadata": {},
     "output_type": "execute_result"
    }
   ],
   "source": [
    "X = tv_area.iloc[:,0:8]\n",
    "X.head(5)"
   ]
  },
  {
   "cell_type": "code",
   "execution_count": 10,
   "metadata": {},
   "outputs": [
    {
     "data": {
      "text/plain": [
       "163033    2.0\n",
       "309058    2.0\n",
       "349232    2.0\n",
       "12924     2.0\n",
       "475378    2.0\n",
       "Name: Classification, dtype: float64"
      ]
     },
     "execution_count": 10,
     "metadata": {},
     "output_type": "execute_result"
    }
   ],
   "source": [
    "y = tv_area.iloc[:,8]\n",
    "y.sample(5)"
   ]
  },
  {
   "cell_type": "code",
   "execution_count": 11,
   "metadata": {},
   "outputs": [],
   "source": [
    "X_train, X_test, y_train, y_test = train_test_split(X, y, test_size = 0.33)"
   ]
  },
  {
   "cell_type": "markdown",
   "metadata": {},
   "source": [
    "Next we concatenate our X_train and y_train data in order to handle our imbalanced classes."
   ]
  },
  {
   "cell_type": "code",
   "execution_count": 12,
   "metadata": {},
   "outputs": [
    {
     "name": "stdout",
     "output_type": "stream",
     "text": [
      "                Z    R    G    B  ScanAngleRank  NumberOfReturns  \\\n",
      "294953  53.880001   88   98   91           -9.0              1.0   \n",
      "147325  50.049999  125  121  109          -14.0              1.0   \n",
      "362993  56.630001   29   41   48           12.0              1.0   \n",
      "299592  52.009998   46   55   57          -13.0              1.0   \n",
      "164285  54.419998  134  130  103           -6.0              1.0   \n",
      "\n",
      "        ReturnNumber  Intensity  Classification  \n",
      "294953           1.0       44.0             4.0  \n",
      "147325           1.0       71.0             2.0  \n",
      "362993           1.0       56.0             2.0  \n",
      "299592           1.0       81.0             2.0  \n",
      "164285           1.0       62.0             2.0  \n"
     ]
    }
   ],
   "source": [
    "tv_area_train = pd.concat([X_train, y_train], axis=1, join='inner')\n",
    "print(tv_area_train.head(5))"
   ]
  },
  {
   "cell_type": "code",
   "execution_count": 13,
   "metadata": {},
   "outputs": [
    {
     "name": "stdout",
     "output_type": "stream",
     "text": [
      "2.0     258337\n",
      "6.0      27104\n",
      "5.0      16275\n",
      "0.0      10378\n",
      "3.0       8514\n",
      "4.0       5695\n",
      "12.0      1309\n",
      "7.0         37\n",
      "Name: Classification, dtype: int64\n"
     ]
    }
   ],
   "source": [
    "print(tv_area_train.Classification.value_counts()) # train data imbalanced classes"
   ]
  },
  {
   "cell_type": "code",
   "execution_count": 14,
   "metadata": {},
   "outputs": [],
   "source": [
    "random_state = 123\n",
    "n_samples = 25000"
   ]
  },
  {
   "cell_type": "code",
   "execution_count": 15,
   "metadata": {},
   "outputs": [],
   "source": [
    "tv_area_majority_2 = tv_area_train[tv_area_train.Classification==2] # extraction of Ground features"
   ]
  },
  {
   "cell_type": "code",
   "execution_count": 16,
   "metadata": {},
   "outputs": [],
   "source": [
    "tv_area_majority_2_upsampled = resample(tv_area_majority_2, \n",
    "                                 replace=False,              # sample without replacement\n",
    "                                 n_samples=n_samples,        # n_samples chosen for down-sampling\n",
    "                                 random_state=random_state)  # reproducible results"
   ]
  },
  {
   "cell_type": "code",
   "execution_count": 17,
   "metadata": {},
   "outputs": [],
   "source": [
    "tv_area_minority_0 = tv_area_train[tv_area_train.Classification==0] # extraction of Never classified features\n",
    "tv_area_minority_3 = tv_area_train[tv_area_train.Classification==3] # extraction of Low Vegetation features\n",
    "tv_area_minority_4 = tv_area_train[tv_area_train.Classification==4] # extraction of Medium Vegetation features\n",
    "tv_area_minority_5 = tv_area_train[tv_area_train.Classification==5] # extraction of High Vegetation features\n",
    "tv_area_minority_6 = tv_area_train[tv_area_train.Classification==6] # extraction of Building features\n",
    "tv_area_minority_7 = tv_area_train[tv_area_train.Classification==7] # extraction of Noise features\n",
    "tv_area_minority_12 = tv_area_train[tv_area_train.Classification==12] # extraction of Overlap (Reserved) features"
   ]
  },
  {
   "cell_type": "code",
   "execution_count": 18,
   "metadata": {},
   "outputs": [],
   "source": [
    "tv_area_minority_0_upsampled = resample(tv_area_minority_0, \n",
    "                                 replace=True,               # sample with replacement\n",
    "                                 n_samples=n_samples,        # to match majority class\n",
    "                                 random_state=random_state)  # reproducible results\n",
    "\n",
    "tv_area_minority_3_upsampled = resample(tv_area_minority_3, \n",
    "                                 replace=True,               # sample with replacement\n",
    "                                 n_samples=n_samples,        # to match majority class\n",
    "                                 random_state=random_state)  # reproducible results\n",
    "\n",
    "tv_area_minority_4_upsampled = resample(tv_area_minority_4, \n",
    "                                 replace=True,               # sample with replacement\n",
    "                                 n_samples=n_samples,        # to match majority class\n",
    "                                 random_state=random_state)  # reproducible results\n",
    "\n",
    "tv_area_minority_5_upsampled = resample(tv_area_minority_5, \n",
    "                                 replace=True,               # sample with replacement\n",
    "                                 n_samples=n_samples,        # to match majority class\n",
    "                                 random_state=random_state)  # reproducible results\n",
    "\n",
    "tv_area_minority_6_upsampled = resample(tv_area_minority_6, \n",
    "                                 replace=True,               # sample with replacement\n",
    "                                 n_samples=n_samples,        # to match majority class\n",
    "                                 random_state=random_state)  # reproducible results\n",
    "\n",
    "tv_area_minority_7_upsampled = resample(tv_area_minority_7, \n",
    "                                 replace=True,               # sample with replacement\n",
    "                                 n_samples=n_samples,        # to match majority class\n",
    "                                 random_state=random_state)  # reproducible results\n",
    "\n",
    "tv_area_minority_12_upsampled = resample(tv_area_minority_12, \n",
    "                                 replace=True,               # sample with replacement\n",
    "                                 n_samples=n_samples,        # to match majority class\n",
    "                                 random_state=random_state)  # reproducible results"
   ]
  },
  {
   "cell_type": "code",
   "execution_count": 19,
   "metadata": {},
   "outputs": [],
   "source": [
    "tv_area_train_sampled = pd.concat([tv_area_minority_0_upsampled, tv_area_majority_2_upsampled, \n",
    "                                     tv_area_minority_3_upsampled, tv_area_minority_4_upsampled, \n",
    "                                     tv_area_minority_5_upsampled, tv_area_minority_6_upsampled, \n",
    "                                     tv_area_minority_7_upsampled, tv_area_minority_12_upsampled ])"
   ]
  },
  {
   "cell_type": "code",
   "execution_count": 20,
   "metadata": {},
   "outputs": [
    {
     "name": "stdout",
     "output_type": "stream",
     "text": [
      "<class 'pandas.core.frame.DataFrame'>\n",
      "Int64Index: 200000 entries, 44020 to 392973\n",
      "Data columns (total 9 columns):\n",
      "Z                  200000 non-null float64\n",
      "R                  200000 non-null int64\n",
      "G                  200000 non-null int64\n",
      "B                  200000 non-null int64\n",
      "ScanAngleRank      200000 non-null float64\n",
      "NumberOfReturns    200000 non-null float64\n",
      "ReturnNumber       200000 non-null float64\n",
      "Intensity          200000 non-null float64\n",
      "Classification     200000 non-null float64\n",
      "dtypes: float64(6), int64(3)\n",
      "memory usage: 15.3 MB\n"
     ]
    }
   ],
   "source": [
    "tv_area_train_sampled.info()"
   ]
  },
  {
   "cell_type": "code",
   "execution_count": 21,
   "metadata": {},
   "outputs": [
    {
     "data": {
      "text/plain": [
       "7.0     25000\n",
       "12.0    25000\n",
       "5.0     25000\n",
       "6.0     25000\n",
       "4.0     25000\n",
       "3.0     25000\n",
       "2.0     25000\n",
       "0.0     25000\n",
       "Name: Classification, dtype: int64"
      ]
     },
     "execution_count": 21,
     "metadata": {},
     "output_type": "execute_result"
    }
   ],
   "source": [
    "tv_area_train_sampled.Classification.value_counts() #we now have 200 000 points in our training dataset"
   ]
  },
  {
   "cell_type": "code",
   "execution_count": 22,
   "metadata": {},
   "outputs": [],
   "source": [
    "X_train = tv_area_train_sampled.iloc[:, :8]\n",
    "y_train = tv_area_train_sampled.iloc[:, 8]"
   ]
  },
  {
   "cell_type": "code",
   "execution_count": 23,
   "metadata": {},
   "outputs": [],
   "source": [
    "from sklearn.preprocessing import MinMaxScaler\n",
    "mm = MinMaxScaler()"
   ]
  },
  {
   "cell_type": "code",
   "execution_count": 24,
   "metadata": {},
   "outputs": [],
   "source": [
    "X_train = mm.fit_transform(X_train)\n",
    "X_test = mm.fit_transform(X_test)"
   ]
  },
  {
   "cell_type": "markdown",
   "metadata": {},
   "source": [
    "### 1.3 XGBoost - default\n",
    "\n",
    "In next step we will use an advanced implementation of gradient boosting algorithm - __XGBoost__.\n",
    "\n",
    "First with default settings (we will work only with scaled data from now on)."
   ]
  },
  {
   "cell_type": "code",
   "execution_count": 25,
   "metadata": {},
   "outputs": [],
   "source": [
    "from sklearn.metrics import accuracy_score\n",
    "from sklearn.model_selection import cross_val_score\n",
    "from xgboost.sklearn import XGBClassifier\n",
    "import warnings\n",
    "warnings.filterwarnings(\"ignore\", category=DeprecationWarning)"
   ]
  },
  {
   "cell_type": "code",
   "execution_count": 26,
   "metadata": {},
   "outputs": [
    {
     "name": "stdout",
     "output_type": "stream",
     "text": [
      "Accuracy: 76.36%\n",
      "XGBClassifier(base_score=0.5, booster='gbtree', colsample_bylevel=1,\n",
      "       colsample_bytree=1, gamma=0, learning_rate=0.1, max_delta_step=0,\n",
      "       max_depth=3, min_child_weight=1, missing=None, n_estimators=100,\n",
      "       n_jobs=1, nthread=None, objective='multi:softprob', random_state=0,\n",
      "       reg_alpha=0, reg_lambda=1, scale_pos_weight=1, seed=None,\n",
      "       silent=True, subsample=1)\n"
     ]
    }
   ],
   "source": [
    "model_xgb = XGBClassifier()\n",
    "model_xgb.fit(X_train, y_train)\n",
    "y_pred = model_xgb.predict(X_train)\n",
    "predictions = [round(value) for value in y_pred]\n",
    "accuracy = accuracy_score(y_train, predictions)\n",
    "print(\"Accuracy: %.2f%%\" % (accuracy * 100.0))\n",
    "print(model_xgb)"
   ]
  },
  {
   "cell_type": "code",
   "execution_count": 27,
   "metadata": {},
   "outputs": [
    {
     "name": "stdout",
     "output_type": "stream",
     "text": [
      "Accuracy: 62.06%\n"
     ]
    }
   ],
   "source": [
    "y_pred = model_xgb.predict(X_test)\n",
    "predictions = [round(value) for value in y_pred]\n",
    "accuracy = accuracy_score(y_test, predictions)\n",
    "print(\"Accuracy: %.2f%%\" % (accuracy * 100.0))"
   ]
  },
  {
   "cell_type": "markdown",
   "metadata": {},
   "source": [
    "We see a lower score than in previous notebook, which may be the fact of vast majority of different training points."
   ]
  },
  {
   "cell_type": "markdown",
   "metadata": {},
   "source": [
    "### 1.4 XGBoost - tuned\n",
    "\n",
    "We will use the hyperparameters from previous notebook and see if they are still better than dafault XGBoost algorithm."
   ]
  },
  {
   "cell_type": "code",
   "execution_count": 28,
   "metadata": {},
   "outputs": [
    {
     "name": "stdout",
     "output_type": "stream",
     "text": [
      "Accuracy: 100.00%\n"
     ]
    }
   ],
   "source": [
    "best_model = XGBClassifier(base_score=0.5, booster='gbtree', colsample_bylevel=1,\n",
    "                           colsample_bytree=0.6, gamma=0.0, learning_rate=0.01,\n",
    "                           max_delta_step=0, max_depth=50, min_child_weight=1, missing=None,\n",
    "                           n_estimators=1000, n_jobs=1, nthread=None,\n",
    "                           objective='multi:softprob', random_state=0, reg_alpha=1e-07,\n",
    "                           reg_lambda=0.001, scale_pos_weight=1, seed=None, silent=True,\n",
    "                           subsample=0.9)\n",
    "\n",
    "best_model.fit(X_train, y_train)\n",
    "y_pred = best_model.predict(X_train)\n",
    "predictions = [round(value) for value in y_pred]\n",
    "accuracy = accuracy_score(y_train, predictions)\n",
    "print(\"Accuracy: %.2f%%\" % (accuracy * 100.0))"
   ]
  },
  {
   "cell_type": "code",
   "execution_count": 29,
   "metadata": {},
   "outputs": [
    {
     "name": "stdout",
     "output_type": "stream",
     "text": [
      "Accuracy: 78.55%\n"
     ]
    }
   ],
   "source": [
    "y_pred = best_model.predict(X_test)\n",
    "predictions = [round(value) for value in y_pred]\n",
    "accuracy = accuracy_score(y_test, predictions)\n",
    "print(\"Accuracy: %.2f%%\" % (accuracy * 100.0))"
   ]
  },
  {
   "cell_type": "markdown",
   "metadata": {},
   "source": [
    "Accuracy is better than in previous notebook (71.07%) so lets see if we still fall into an overfitting dilema."
   ]
  },
  {
   "cell_type": "markdown",
   "metadata": {},
   "source": [
    "## 2.Test dataset\n",
    "\n",
    "### 2.1 Data analysis\n",
    "\n",
    "Test area consists of 46 973 LiDAR points located over 9 896 square meters.\n",
    "\n",
    "<img src='img/Zakres2_2d.jpg' width=\"80%\">\n",
    "\n",
    "Test area is the replica of previous notebook so we only do a pie chart of 'Classification' columns."
   ]
  },
  {
   "cell_type": "code",
   "execution_count": 30,
   "metadata": {},
   "outputs": [],
   "source": [
    "t_area = pd.read_csv('data/02.Test_Area.csv', header=0, delimiter=' ')\n",
    "t_area = t_area.drop(['PointSourceId', 'ScanDirectionFlag', 'X', 'Y'], axis = 1)"
   ]
  },
  {
   "cell_type": "code",
   "execution_count": 31,
   "metadata": {},
   "outputs": [],
   "source": [
    "X2 = t_area.iloc[:,0:8]\n",
    "y2 = t_area.iloc[:,8]"
   ]
  },
  {
   "cell_type": "code",
   "execution_count": 32,
   "metadata": {},
   "outputs": [
    {
     "data": {
      "text/html": [
       "<div>\n",
       "<style scoped>\n",
       "    .dataframe tbody tr th:only-of-type {\n",
       "        vertical-align: middle;\n",
       "    }\n",
       "\n",
       "    .dataframe tbody tr th {\n",
       "        vertical-align: top;\n",
       "    }\n",
       "\n",
       "    .dataframe thead th {\n",
       "        text-align: right;\n",
       "    }\n",
       "</style>\n",
       "<table border=\"1\" class=\"dataframe\">\n",
       "  <thead>\n",
       "    <tr style=\"text-align: right;\">\n",
       "      <th></th>\n",
       "      <th>Z</th>\n",
       "      <th>R</th>\n",
       "      <th>G</th>\n",
       "      <th>B</th>\n",
       "      <th>ScanAngleRank</th>\n",
       "      <th>NumberOfReturns</th>\n",
       "      <th>ReturnNumber</th>\n",
       "      <th>Intensity</th>\n",
       "    </tr>\n",
       "  </thead>\n",
       "  <tbody>\n",
       "    <tr>\n",
       "      <th>0</th>\n",
       "      <td>50.580002</td>\n",
       "      <td>79</td>\n",
       "      <td>102</td>\n",
       "      <td>85</td>\n",
       "      <td>6.0</td>\n",
       "      <td>1.0</td>\n",
       "      <td>1.0</td>\n",
       "      <td>62.0</td>\n",
       "    </tr>\n",
       "    <tr>\n",
       "      <th>1</th>\n",
       "      <td>50.580002</td>\n",
       "      <td>75</td>\n",
       "      <td>98</td>\n",
       "      <td>80</td>\n",
       "      <td>6.0</td>\n",
       "      <td>1.0</td>\n",
       "      <td>1.0</td>\n",
       "      <td>80.0</td>\n",
       "    </tr>\n",
       "    <tr>\n",
       "      <th>2</th>\n",
       "      <td>50.580002</td>\n",
       "      <td>68</td>\n",
       "      <td>91</td>\n",
       "      <td>74</td>\n",
       "      <td>6.0</td>\n",
       "      <td>1.0</td>\n",
       "      <td>1.0</td>\n",
       "      <td>84.0</td>\n",
       "    </tr>\n",
       "    <tr>\n",
       "      <th>3</th>\n",
       "      <td>50.650002</td>\n",
       "      <td>82</td>\n",
       "      <td>105</td>\n",
       "      <td>87</td>\n",
       "      <td>6.0</td>\n",
       "      <td>1.0</td>\n",
       "      <td>1.0</td>\n",
       "      <td>82.0</td>\n",
       "    </tr>\n",
       "    <tr>\n",
       "      <th>4</th>\n",
       "      <td>50.590000</td>\n",
       "      <td>96</td>\n",
       "      <td>118</td>\n",
       "      <td>100</td>\n",
       "      <td>6.0</td>\n",
       "      <td>1.0</td>\n",
       "      <td>1.0</td>\n",
       "      <td>82.0</td>\n",
       "    </tr>\n",
       "  </tbody>\n",
       "</table>\n",
       "</div>"
      ],
      "text/plain": [
       "           Z   R    G    B  ScanAngleRank  NumberOfReturns  ReturnNumber  \\\n",
       "0  50.580002  79  102   85            6.0              1.0           1.0   \n",
       "1  50.580002  75   98   80            6.0              1.0           1.0   \n",
       "2  50.580002  68   91   74            6.0              1.0           1.0   \n",
       "3  50.650002  82  105   87            6.0              1.0           1.0   \n",
       "4  50.590000  96  118  100            6.0              1.0           1.0   \n",
       "\n",
       "   Intensity  \n",
       "0       62.0  \n",
       "1       80.0  \n",
       "2       84.0  \n",
       "3       82.0  \n",
       "4       82.0  "
      ]
     },
     "execution_count": 32,
     "metadata": {},
     "output_type": "execute_result"
    }
   ],
   "source": [
    "X2.head(5)"
   ]
  },
  {
   "cell_type": "code",
   "execution_count": 33,
   "metadata": {},
   "outputs": [
    {
     "data": {
      "text/plain": [
       "0    2.0\n",
       "1    2.0\n",
       "2    2.0\n",
       "3    2.0\n",
       "4    2.0\n",
       "Name: Classification, dtype: float64"
      ]
     },
     "execution_count": 33,
     "metadata": {},
     "output_type": "execute_result"
    }
   ],
   "source": [
    "y2.head(5)"
   ]
  },
  {
   "cell_type": "code",
   "execution_count": 34,
   "metadata": {},
   "outputs": [
    {
     "data": {
      "text/plain": [
       "(array([0., 2., 3., 4., 5., 6., 7.]),\n",
       " array([  745, 31236,   973,   783,  4241,  5454,     8], dtype=int64))"
      ]
     },
     "execution_count": 34,
     "metadata": {},
     "output_type": "execute_result"
    }
   ],
   "source": [
    "np.unique(t_area.Classification, return_counts=True)"
   ]
  },
  {
   "cell_type": "code",
   "execution_count": 37,
   "metadata": {},
   "outputs": [
    {
     "data": {
      "image/png": "[encoded data removed]",
      "text/plain": [
       "<matplotlib.figure.Figure at 0x2621df8f5c0>"
      ]
     },
     "metadata": {},
     "output_type": "display_data"
    }
   ],
   "source": [
    "import matplotlib.pyplot as plt\n",
    "\n",
    "labels = ['Unassigned', 'Ground', 'Low_Vegetation', 'Medium Vegetaion', 'High Vegetation', 'Buildings', 'Noise']\n",
    "\n",
    "colors = ['#944dff', '#ff8000', '#66ff33', '#2db300', '#134d00', '#ff3300', '#7575a3']\n",
    "\n",
    "plt.figure(figsize=(7,7))\n",
    "\n",
    "sizes = np.unique(t_area.Classification, return_counts=True)[1]\n",
    "\n",
    "patches, texts = plt.pie(sizes, shadow=True, startangle=90, colors=colors)\n",
    "\n",
    "plt.legend(patches, labels, loc=\"best\")\n",
    "\n",
    "plt.title('LiDAR points in each class')\n",
    "\n",
    "plt.axis('equal')\n",
    "\n",
    "plt.show()"
   ]
  },
  {
   "cell_type": "code",
   "execution_count": 38,
   "metadata": {},
   "outputs": [],
   "source": [
    "X2 = mm.fit_transform(X2) #we scale our data as in the first train/test area"
   ]
  },
  {
   "cell_type": "markdown",
   "metadata": {},
   "source": [
    "### 2.2 XGBoost - default"
   ]
  },
  {
   "cell_type": "code",
   "execution_count": 39,
   "metadata": {},
   "outputs": [
    {
     "name": "stdout",
     "output_type": "stream",
     "text": [
      "Accuracy: 49.61%\n"
     ]
    }
   ],
   "source": [
    "y2_pred = model_xgb.predict(X2)\n",
    "predictions2 = [round(value) for value in y2_pred]\n",
    "accuracy = accuracy_score(y2, predictions2)\n",
    "print(\"Accuracy: %.2f%%\" % (accuracy * 100.0))"
   ]
  },
  {
   "cell_type": "markdown",
   "metadata": {},
   "source": [
    "Slightly better, but still not good for future work with LiDAR datasets."
   ]
  },
  {
   "cell_type": "markdown",
   "metadata": {},
   "source": [
    "### 2.3 XGBoost - tuned"
   ]
  },
  {
   "cell_type": "code",
   "execution_count": 40,
   "metadata": {},
   "outputs": [
    {
     "name": "stdout",
     "output_type": "stream",
     "text": [
      "Accuracy: 37.36%\n"
     ]
    }
   ],
   "source": [
    "y2_pred = best_model.predict(X2)\n",
    "predictions2 = [round(value) for value in y2_pred]\n",
    "accuracy = accuracy_score(y2, predictions2)\n",
    "print(\"Accuracy: %.2f%%\" % (accuracy * 100.0))"
   ]
  },
  {
   "cell_type": "markdown",
   "metadata": {},
   "source": [
    "And a shcoker here ! We can see that we have got even worse accuracy scores than on smaller training datasets!\n",
    "\n",
    "The problem of __overfitting__ still exists and we should find other way to implement our data or increase the number of instances."
   ]
  }
 ],
 "metadata": {
  "kernelspec": {
   "display_name": "Python 3",
   "language": "python",
   "name": "python3"
  },
  "language_info": {
   "codemirror_mode": {
    "name": "ipython",
    "version": 3
   },
   "file_extension": ".py",
   "mimetype": "text/x-python",
   "name": "python",
   "nbconvert_exporter": "python",
   "pygments_lexer": "ipython3",
   "version": "3.6.4"
  }
 },
 "nbformat": 4,
 "nbformat_minor": 2
}
